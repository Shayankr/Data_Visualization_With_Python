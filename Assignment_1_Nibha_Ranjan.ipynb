{
 "cells": [
  {
   "cell_type": "markdown",
   "id": "01ab5188",
   "metadata": {},
   "source": [
    "# <center>Assignment_1</center>"
   ]
  },
  {
   "cell_type": "markdown",
   "id": "c999fe75",
   "metadata": {},
   "source": [
    "## Problem: 1"
   ]
  },
  {
   "cell_type": "raw",
   "id": "80aec26b",
   "metadata": {},
   "source": [
    "1. Given 3 numbers N , L and R. Print 'yes' if N is between L and R else print 'no'.\n",
    "Sample Testcase :\n",
    "INPUT:\n",
    "3\n",
    "2 6\n",
    "OUTPUT:\n",
    "Yes"
   ]
  },
  {
   "cell_type": "code",
   "execution_count": 1,
   "id": "1b246653",
   "metadata": {},
   "outputs": [
    {
     "name": "stdout",
     "output_type": "stream",
     "text": [
      "Enter a value for 'L'2\n",
      "Enter a value for 'R'6\n",
      "yes\n"
     ]
    }
   ],
   "source": [
    "# Take total number is =3\n",
    "N=3\n",
    "# take the input for 'L'\n",
    "L = int(input(\"Enter a value for 'L'\"))\n",
    "# Take the input for \"R\"\n",
    "R = int(input(\"Enter a value for 'R'\"))\n",
    "\n",
    "# Now use for loop to implement condition\n",
    "if (L<N<R):\n",
    "    print(\"yes\") # Print \"yes\" if N is in between of \"L\" and \"R\"\n",
    "else:\n",
    "    print(\"no\")  # Otherwise print \"no\""
   ]
  },
  {
   "cell_type": "markdown",
   "id": "e090f11f",
   "metadata": {},
   "source": [
    "## Problem: 2"
   ]
  },
  {
   "cell_type": "markdown",
   "id": "987f5992",
   "metadata": {},
   "source": [
    "2.You are given an array of numbers.\n",
    "* Print the least occurring element. If there is more than 1 element .\n",
    "* print all of them in decreasing order of their value.\n",
    "\n",
    "Input Description:\n",
    "* You are given a number ‘n’ denoting size of array. Next line contains n space separated numbers.\n",
    "Output Description:\n",
    "* Print the number as mentioned\n",
    "Sample Input:\n",
    "* 9\n",
    "* 1 6 4 56 56 56 6 4 2\n",
    "Sample Output:\n",
    "2 1"
   ]
  },
  {
   "cell_type": "code",
   "execution_count": 3,
   "id": "df4cfb53",
   "metadata": {},
   "outputs": [
    {
     "name": "stdout",
     "output_type": "stream",
     "text": [
      "[2, 1]\n"
     ]
    }
   ],
   "source": [
    "def least_occurring_element(arr):\n",
    "    # create a dictionary to store the frequency of each element\n",
    "    frequency = {}\n",
    "    for i in arr:\n",
    "        if i in frequency:\n",
    "            frequency[i] += 1\n",
    "        else:\n",
    "            frequency[i] = 1\n",
    "    \n",
    "    # get the elements with the minimum frequency\n",
    "    min_frequency = min(frequency.values())\n",
    "    min_elements = [key for key, value in frequency.items() if value == min_frequency]\n",
    "    \n",
    "    # sort the elements in descending order\n",
    "    min_elements.sort(reverse=True)\n",
    "    \n",
    "    # return the result\n",
    "    return min_elements\n",
    "\n",
    "# test the function\n",
    "arr = [1,6, 4, 56, 56, 56, 6, 4, 2]\n",
    "print(least_occurring_element(arr))\n"
   ]
  },
  {
   "cell_type": "markdown",
   "id": "b3870002",
   "metadata": {},
   "source": [
    "## Problem 3:"
   ]
  },
  {
   "cell_type": "markdown",
   "id": "17bad3ba",
   "metadata": {},
   "source": [
    "You are given a number with duplicate digits your task is to remove the immediate duplicate digits and print the result"
   ]
  },
  {
   "cell_type": "markdown",
   "id": "0fbc6abb",
   "metadata": {},
   "source": [
    "Input Description:\n",
    "* You are given a long string of digits\n",
    "Output Description:\n",
    "* Print the desired result print -1 if result length is 0\n",
    "\n",
    "Sample Input :\n",
    "* 1331\n",
    "\n",
    "Sample Output :\n",
    "* 11"
   ]
  },
  {
   "cell_type": "raw",
   "id": "bdeb7448",
   "metadata": {},
   "source": [
    "I think here, output should be \"131\" because we only have to remove the immediate duplicate digits. Not both the digits if duplicate is available."
   ]
  },
  {
   "cell_type": "code",
   "execution_count": 5,
   "id": "f96c7b05",
   "metadata": {},
   "outputs": [
    {
     "name": "stdout",
     "output_type": "stream",
     "text": [
      "Enter a number with duplicate digits: 1331\n",
      "131\n"
     ]
    }
   ],
   "source": [
    "def remove_duplicates(num_str):  # The function remove_duplicates takes the input string as an argument\n",
    "    \n",
    "    result = \"\"  # Initialize an empty string\n",
    "    \n",
    "    for i in range(len(num_str) - 1):  # for loop to iterate through the input string\n",
    "        if num_str[i] != num_str[i + 1]:  # compares each digit with its next digit\n",
    "            result += num_str[i]\n",
    "            \n",
    "    result += num_str[-1]\n",
    "    \n",
    "    return result if result else -1\n",
    "\n",
    "num_str = input(\"Enter a number with duplicate digits: \")\n",
    "result = remove_duplicates(num_str)\n",
    "print(result)\n"
   ]
  },
  {
   "cell_type": "markdown",
   "id": "59fa43e1",
   "metadata": {},
   "source": [
    "## Problem: 4"
   ]
  },
  {
   "cell_type": "markdown",
   "id": "1fe404a7",
   "metadata": {},
   "source": [
    "Given a string S, print it after changing the middle element to * (if the length of the string is even, change the 2 middle elements to *)"
   ]
  },
  {
   "cell_type": "code",
   "execution_count": 6,
   "id": "29a41e2d",
   "metadata": {},
   "outputs": [
    {
     "name": "stdout",
     "output_type": "stream",
     "text": [
      "Enter a string: hello\n",
      "Result:  he*lo\n"
     ]
    }
   ],
   "source": [
    "def change_middle_element(s):\n",
    "    \n",
    "    # First find out the legth of the string, Becoause there are 2 dufferent operations based on whether the length is even or odd.\n",
    "    length = len(s)\n",
    "    \n",
    "    if length % 2 == 0: # check \"True\" if length is even\n",
    "        start = length // 2 - 1\n",
    "        end = length // 2 + 1\n",
    "        s = s[:start] + \"**\" + s[end:]  # Put/replace \"**\" instead of both the middle element\n",
    "    \n",
    "    else:\n",
    "        index = length // 2     # else: if length is odd\n",
    "        s = s[:index] + \"*\" + s[index+1:]  # only replace (1) middle element by \"*\"\n",
    "    return s\n",
    "\n",
    "s = input(\"Enter a string: \")  # Take one input as String, by default python input is in \"str\" format.\n",
    "result = change_middle_element(s)  # apply the above defined fynction on user input.\n",
    "print(\"Result: \", result)  # Printing the obtained result.\n"
   ]
  },
  {
   "cell_type": "markdown",
   "id": "e352f352",
   "metadata": {},
   "source": [
    "## Problem: 5"
   ]
  },
  {
   "cell_type": "markdown",
   "id": "74f0715d",
   "metadata": {},
   "source": [
    "You are a software engineer at an MNC. You are given the task of sorting the employees in your company based on their salary. \n",
    "\n",
    "Perform the task so that the employees, including yourself, will get a bonus from the management."
   ]
  },
  {
   "cell_type": "markdown",
   "id": "7b6afdc4",
   "metadata": {},
   "source": [
    "Input Description:\n",
    "* Number of employees followed by list of lists containing their name and salary."
   ]
  },
  {
   "cell_type": "markdown",
   "id": "3420c11b",
   "metadata": {},
   "source": [
    "Output Description:\n",
    "* Sorted list of employee names"
   ]
  },
  {
   "cell_type": "code",
   "execution_count": 7,
   "id": "443f841a",
   "metadata": {},
   "outputs": [
    {
     "name": "stdout",
     "output_type": "stream",
     "text": [
      "Enter the number of employees: 3\n",
      "Enter the name and salary of the employee: Karthik 23000\n",
      "Enter the name and salary of the employee: Rohan 81734\n",
      "Enter the name and salary of the employee: Varshini 12343\n",
      "Varshini\n",
      "Karthik\n",
      "Rohan\n"
     ]
    }
   ],
   "source": [
    "def sort_employees(employee_list):\n",
    "    # Sorting the list of employees based on their salary in ascending order\n",
    "    sorted_employees = sorted(employee_list, key=lambda x: x[1])\n",
    "    \n",
    "    # Extracting the names of employees from the sorted list\n",
    "    employee_names = [employee[0] for employee in sorted_employees]\n",
    "    \n",
    "    return employee_names\n",
    "\n",
    "# Reading the number of employees\n",
    "num_employees = int(input(\"Enter the number of employees: \"))\n",
    "\n",
    "# Reading the list of employees\n",
    "employee_list = []\n",
    "for i in range(num_employees):\n",
    "    name, salary = input(\"Enter the name and salary of the employee: \").split()\n",
    "    employee_list.append([name, int(salary)])\n",
    "\n",
    "# Sorting the employees and printing their names\n",
    "sorted_employees = sort_employees(employee_list)\n",
    "for employee_name in sorted_employees:\n",
    "    print(employee_name)\n"
   ]
  },
  {
   "cell_type": "markdown",
   "id": "31679896",
   "metadata": {},
   "source": [
    "## Problem: 6"
   ]
  },
  {
   "cell_type": "markdown",
   "id": "aaf1e1f0",
   "metadata": {},
   "source": [
    "Ria \n",
    "is a 5 year old girl. Her mother wants to teach her how to sort words in the same order that they appear in a dictionary. \n",
    "\n",
    "She decides to write a program to sort a given set of strings based on their alphabetical order.\n",
    "\n",
    "Help Ria’s mother to complete the program."
   ]
  },
  {
   "cell_type": "markdown",
   "id": "f134cd48",
   "metadata": {},
   "source": [
    "Input Description:\n",
    "* A set of N strings"
   ]
  },
  {
   "cell_type": "markdown",
   "id": "5d49f84b",
   "metadata": {},
   "source": [
    "Output Description:\n",
    "* Alphabetically sorted set of strings"
   ]
  },
  {
   "cell_type": "code",
   "execution_count": 9,
   "id": "3d3b3c39",
   "metadata": {},
   "outputs": [
    {
     "name": "stdout",
     "output_type": "stream",
     "text": [
      "Enter the number of strings: 3\n",
      "Enter string: InfinityWar\n",
      "Enter string: EndGame\n",
      "Enter string: Avengers\n",
      "Alphabetically sorted set of strings:\n",
      "Avengers\n",
      "EndGame\n",
      "InfinityWar\n"
     ]
    }
   ],
   "source": [
    "n = int(input(\"Enter the number of strings: \"))  # the number of strings is taken as input from the user\n",
    "strings = []  # Initialise an empty list\n",
    "\n",
    "for i in range(n):\n",
    "    string = input(\"Enter string: \")  # Take the input string from user.\n",
    "    strings.append(string)   # Append user input string into list\n",
    "\n",
    "strings.sort()  # Sort the string into alphabetical order as given in Dictionary.\n",
    "\n",
    "print(\"Alphabetically sorted set of strings:\")\n",
    "for string in strings:\n",
    "    print(string)\n"
   ]
  },
  {
   "cell_type": "markdown",
   "id": "320c5069",
   "metadata": {},
   "source": [
    "**We can also implememnt sorting code from scratch using \"bubble sort\" algo.**"
   ]
  },
  {
   "cell_type": "code",
   "execution_count": 10,
   "id": "b2e6f707",
   "metadata": {},
   "outputs": [
    {
     "name": "stdout",
     "output_type": "stream",
     "text": [
      "Enter the number of words: 3\n",
      "Enter word: InfinityWar\n",
      "Enter word: EndGame\n",
      "Enter word: Avengers\n",
      "Sorted words:\n",
      "Avengers\n",
      "EndGame\n",
      "InfinityWar\n"
     ]
    }
   ],
   "source": [
    "def bubbleSort(words): \n",
    "    n = len(words) \n",
    "  \n",
    "    for i in range(n): \n",
    "        for j in range(0, n-i-1): \n",
    "            if words[j] > words[j+1] : \n",
    "                words[j], words[j+1] = words[j+1], words[j] \n",
    "  \n",
    "    return words\n",
    "\n",
    "# Take input of the words to sort\n",
    "n = int(input(\"Enter the number of words: \"))\n",
    "words = []\n",
    "for i in range(n):\n",
    "    word = input(\"Enter word: \")\n",
    "    words.append(word)\n",
    "\n",
    "# Sort the words\n",
    "words = bubbleSort(words)\n",
    "\n",
    "# Print the sorted words\n",
    "print(\"Sorted words:\")\n",
    "for word in words:\n",
    "    print(word)\n"
   ]
  },
  {
   "cell_type": "markdown",
   "id": "a6d807e0",
   "metadata": {},
   "source": [
    "## Problem: 7"
   ]
  },
  {
   "cell_type": "markdown",
   "id": "4d5415df",
   "metadata": {},
   "source": [
    "Shreya is a brilliant girl. She likes to memorize the numbers. These numbers will be shown to her. As an examiner develop an algorithm to test her memory."
   ]
  },
  {
   "cell_type": "markdown",
   "id": "f9bd667a",
   "metadata": {},
   "source": [
    "Input Description: \n",
    "* First line contains no. of test cases(Y). Next line contains a number N. Next line contains n space separated numbers Next line contains a number T denoting the number of questions asked from you regarding the given array. Next line contains T space separated numbers"
   ]
  },
  {
   "cell_type": "markdown",
   "id": "465c1d7f",
   "metadata": {},
   "source": [
    "Output Description:\n",
    "* Print the occurrence of each number if present else “NOT PRESENT”"
   ]
  },
  {
   "cell_type": "code",
   "execution_count": 12,
   "id": "f1a099e4",
   "metadata": {},
   "outputs": [
    {
     "name": "stdout",
     "output_type": "stream",
     "text": [
      "Enter the number of test cases: 1\n",
      "Enter the number of elements in the array: 10\n",
      "Enter the elements of the array: 1 1 1 2 2 2 3 8 9 7\n",
      "Enter the number of queries: 1\n",
      "Enter the queries: 1 2 3 0 5\n",
      "3\n",
      "3\n",
      "1\n",
      "Not Present\n",
      "Not Present\n"
     ]
    }
   ],
   "source": [
    "def count_occurrence(arr, num_queries, queries):   # this function takes the array, number of queries, and the queries as input\n",
    "                                                # returns the occurrence of each number in the array\n",
    "    \n",
    "    count = {}  # creates a dictionary count to store the occurrence of each number\n",
    "    \n",
    "    for num in arr:   # For each number in the array, the function checks if the number is in the count dictionary. \n",
    "        if num in count:   # If the number is present in \"count\" dictionary\n",
    "            count[num] += 1    # the function increments its count by 1\n",
    "        else:\n",
    "            count[num] = 1    # otherwise, it sets its count to 1.\n",
    "    \n",
    "    # Now check for query\n",
    "    for query in queries:\n",
    "        if query in count:\n",
    "            print(count[query])\n",
    "        else:\n",
    "            print(\"Not Present\")\n",
    "        # Finally, the function iterates over the queries and prints the count of each query if it is present in the count dictionary, \n",
    "        # otherwise, it prints \"Not Present\".\n",
    "\n",
    "num_test_cases = int(input(\"Enter the number of test cases: \"))\n",
    "for i in range(num_test_cases):\n",
    "    n = int(input(\"Enter the number of elements in the array: \"))\n",
    "    arr = list(map(int, input(\"Enter the elements of the array: \").strip().split()))\n",
    "    num_queries = int(input(\"Enter the number of queries: \"))\n",
    "    queries = list(map(int, input(\"Enter the queries: \").strip().split()))\n",
    "    count_occurrence(arr, num_queries, queries)\n"
   ]
  },
  {
   "cell_type": "markdown",
   "id": "6451d1be",
   "metadata": {},
   "source": [
    "## Problem: 8"
   ]
  },
  {
   "cell_type": "markdown",
   "id": "ee73478d",
   "metadata": {},
   "source": [
    "Mr. Stark wants to order the employee ids, which are recorded in a 2D matrix, in ascending order.He wants to do it so as to allot a new id to a person who joins as a fresher. You are the CTO of the Stark industries and you are asked by Mr.Stark to sort the data\n",
    "\n",
    "Input Description:Dimensions of the matrix m and n, followed by the elements of the matrix.\n",
    "\n",
    "Output Description:Matrix sorted in ascending order\n",
    "\n",
    "Sample Input :\n",
    "\n",
    "3 3 \n",
    "\n",
    "    87 21 34\n",
    "    89 32 78\n",
    "    12 23 45\n",
    "\n",
    "Sample Output :\n",
    "\n",
    "    12 21 23\n",
    "    32 34 45\n",
    "    78 87 89"
   ]
  },
  {
   "cell_type": "code",
   "execution_count": 17,
   "id": "45f1e2df",
   "metadata": {},
   "outputs": [
    {
     "name": "stdout",
     "output_type": "stream",
     "text": [
      "3 3\n",
      "87 21 34\n",
      "89 32 78\n",
      "12 23 45\n",
      "\n",
      "Sorted matrix is: \n",
      "12 21 23 \n",
      "32 34 45 \n",
      "78 87 89 \n"
     ]
    }
   ],
   "source": [
    "def sortMatrix(matrix, m, n):\n",
    "  # Create a 1D array by concatenating the rows of the matrix\n",
    "  flat_list = [item for sublist in matrix for item in sublist]\n",
    "  \n",
    "  # Sort the 1D array\n",
    "  flat_list.sort()\n",
    "  \n",
    "  # Create the sorted 2D matrix\n",
    "  sorted_matrix = [[0 for i in range(n)] for j in range(m)]\n",
    "  k = 0\n",
    "  for i in range(m):\n",
    "    for j in range(n):\n",
    "      sorted_matrix[i][j] = flat_list[k]\n",
    "      k += 1\n",
    "      \n",
    "  return sorted_matrix\n",
    "\n",
    "# Get the dimensions of the matrix\n",
    "m, n = map(int, input().split())\n",
    "\n",
    "# Get the elements of the matrix\n",
    "matrix = []\n",
    "for i in range(m):\n",
    "  row = list(map(int, input().split()))\n",
    "  matrix.append(row)\n",
    "\n",
    "# Sort the matrix\n",
    "sorted_matrix = sortMatrix(matrix, m, n)\n",
    "print()\n",
    "print(\"Sorted matrix is: \")\n",
    "# Print the sorted matrix\n",
    "for i in range(m):\n",
    "  for j in range(n):\n",
    "    print(sorted_matrix[i][j], end=\" \")\n",
    "  print()\n"
   ]
  },
  {
   "cell_type": "markdown",
   "id": "910f0ba9",
   "metadata": {},
   "source": [
    "## Problem: 9"
   ]
  },
  {
   "cell_type": "code",
   "execution_count": null,
   "id": "a2664a4e",
   "metadata": {},
   "outputs": [],
   "source": []
  }
 ],
 "metadata": {
  "kernelspec": {
   "display_name": "Python 3 (ipykernel)",
   "language": "python",
   "name": "python3"
  },
  "language_info": {
   "codemirror_mode": {
    "name": "ipython",
    "version": 3
   },
   "file_extension": ".py",
   "mimetype": "text/x-python",
   "name": "python",
   "nbconvert_exporter": "python",
   "pygments_lexer": "ipython3",
   "version": "3.9.13"
  }
 },
 "nbformat": 4,
 "nbformat_minor": 5
}
